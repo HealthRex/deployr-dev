{
 "cells": [
  {
   "cell_type": "code",
   "execution_count": null,
   "id": "a082cf55",
   "metadata": {},
   "outputs": [],
   "source": [
    "from google.cloud import bigquery\n",
    "import os\n",
    "import pandas as pd\n",
    "import sys\n",
    "import yaml"
   ]
  },
  {
   "cell_type": "markdown",
   "id": "f18c99b0",
   "metadata": {},
   "source": [
    "### Set environment variables to point to your GCP BQ credentials, and set your google project\n",
    "For ease you can put this in your .bash_profile, or have it automatically set whenever you activate your [healthrex_ml environment](https://docs.conda.io/projects/conda/en/latest/user-guide/tasks/manage-environments.html#macos-and-linux)"
   ]
  },
  {
   "cell_type": "code",
   "execution_count": null,
   "id": "89223238",
   "metadata": {},
   "outputs": [],
   "source": [
    "# Edit to point to yours\n",
    "os.environ['GOOGLE_APPLICATION_CREDENTIALS'] = (\n",
    "    '/Users/conorcorbin/.config/gcloud/application_default_credentials.json'\n",
    ")\n",
    "os.environ['GCLOUD_PROJECT'] = 'som-nero-phi-jonc101'\n",
    "\n",
    "# Instantiate a client object so you can make queries\n",
    "client = bigquery.Client()"
   ]
  },
  {
   "cell_type": "markdown",
   "id": "d9c18401",
   "metadata": {},
   "source": [
    "### Define an experiment and run"
   ]
  },
  {
   "cell_type": "code",
   "execution_count": null,
   "id": "1a422716",
   "metadata": {},
   "outputs": [],
   "source": [
    "suid='' # your sunet id\n",
    "EXPERIMENT_NAME = f\"20230118_workshop_{suid}\"\n",
    "RUN_NAME = \"baseline_cbc_models\""
   ]
  },
  {
   "cell_type": "markdown",
   "id": "37f2a86b",
   "metadata": {},
   "source": [
    "### Define a cohort, or use an existing one in the cohorts module\n",
    "When called, a `Cohort` object will execute a query and create cohort table in bigquery `working_project_id.dataset_name.table_name` with the following columns\n",
    "1. anon_id : id of the patient \n",
    "2. observation_id : id of the ML example (observation)\n",
    "3. index_time : timestamp indicating when the prediction is to be made (never use features that exist after index_time)\n",
    "4. label_1 : label\n",
    "5. label_N : label\n",
    "In example below we will have N=4 binary labels -- the task is `multilabel` not `multiclass`, in that more than one of the binary labels can take value 1 in the same example. \n",
    "\n",
    "We'll use the `CBCWithDifferentialCohort`, which you can find [here](https://github.com/HealthRex/healthrex_ml/blob/main/healthrex_ml/cohorts/starr_cohorts.py#L479) "
   ]
  },
  {
   "cell_type": "code",
   "execution_count": null,
   "id": "37960876",
   "metadata": {},
   "outputs": [],
   "source": [
    "from healthrex_ml.cohorts import CBCWithDifferentialCohort \n",
    "cohort = CBCWithDifferentialCohort(\n",
    "    client=client,\n",
    "    dataset_name='devworkshop',\n",
    "    working_project_id='mining-clinical-decisions',\n",
    "    table_name=f\"{EXPERIMENT_NAME}_{RUN_NAME}_cohort\"\n",
    ")\n",
    "cohort()"
   ]
  },
  {
   "cell_type": "markdown",
   "id": "63d96da0",
   "metadata": {},
   "source": [
    "### Define a set of extractors\n",
    "\n",
    "Extractor definitions [here]()"
   ]
  },
  {
   "cell_type": "code",
   "execution_count": null,
   "id": "e098a80e",
   "metadata": {},
   "outputs": [],
   "source": [
    "from healthrex_ml.extractors import (\n",
    "    AgeExtractor,\n",
    "    RaceExtractor,\n",
    "    SexExtractor,\n",
    "    EthnicityExtractor,\n",
    "    ProcedureExtractor,\n",
    "    PatientProblemExtractor,\n",
    "    MedicationExtractor,\n",
    "    LabOrderExtractor,\n",
    "    LabResultBinsExtractor,\n",
    "    FlowsheetBinsExtractor\n",
    ")\n",
    "\n",
    "USED_EXTRACTORS = [AgeExtractor,\n",
    "    RaceExtractor,\n",
    "    SexExtractor,\n",
    "    EthnicityExtractor,\n",
    "    ProcedureExtractor,\n",
    "    PatientProblemExtractor,\n",
    "    MedicationExtractor,\n",
    "    LabOrderExtractor,\n",
    "    LabResultBinsExtractor,\n",
    "    FlowsheetBinsExtractor\n",
    "]\n",
    "\n",
    "cohort_table=f\"{cohort.project_id}.{cohort.dataset_name}.{cohort.table_name}\"\n",
    "feature_table=f\"{cohort.project_id}.{cohort.dataset_name}.{RUN_NAME}_feature_matrix\"\n",
    "extractors = [\n",
    "    ext(cohort_table_id=cohort_table, feature_table_id=feature_table)\n",
    "    for ext in USED_EXTRACTORS\n",
    "]"
   ]
  },
  {
   "cell_type": "markdown",
   "id": "2597f3f9",
   "metadata": {},
   "source": [
    "### Define a featurizer and create a feature matrix\n",
    "\n",
    "Will execute a series of SQL queries defined by the extractors to build up a long form feature matrix and save to bigquery. Additionally, will read in the long form feature matrix and build up a sparse (CSR) matrix without doing the expensive pivot operation.  Will save locally. Automatically generates train/test split by using last year of data as test set.  Can use `train_years` and `test_years` arguments in the `__init__` function to modify. \n",
    "\n",
    "Implementatin of [BagOfWordsFeaturizer](https://github.com/HealthRex/healthrex_ml/blob/main/healthrex_ml/featurizers/starr_featurizers.py#L239)"
   ]
  },
  {
   "cell_type": "code",
   "execution_count": null,
   "id": "bfb1bca1",
   "metadata": {},
   "outputs": [],
   "source": [
    "from healthrex_ml.featurizers import BagOfWordsFeaturizer\n",
    "\n",
    "featurizer = BagOfWordsFeaturizer(\n",
    "        cohort_table_id=cohort_table,\n",
    "        feature_table_id=feature_table,\n",
    "        extractors=extractors,\n",
    "        outpath=f\"./{RUN_NAME}_artifacts\",\n",
    "        tfidf=True\n",
    ")\n",
    "featurizer()"
   ]
  },
  {
   "cell_type": "markdown",
   "id": "d90ce055",
   "metadata": {},
   "source": [
    "### Train a set of gradient boosted trees\n",
    "\n",
    "Implementation of [LightGBMTrainer](https://github.com/HealthRex/healthrex_ml/blob/main/healthrex_ml/trainers/sklearn_trainers.py#L23)"
   ]
  },
  {
   "cell_type": "code",
   "execution_count": null,
   "id": "e29b7f02",
   "metadata": {
    "scrolled": true
   },
   "outputs": [],
   "source": [
    "from healthrex_ml.trainers import LightGBMTrainer\n",
    "\n",
    "trainer = LightGBMTrainer(working_dir=f\"./{RUN_NAME}_artifacts\")\n",
    "tasks = ['label_PLT', 'label_HCT', 'label_WBC', 'label_HGB']\n",
    "\n",
    "for task in tasks:\n",
    "    trainer(task)"
   ]
  },
  {
   "cell_type": "markdown",
   "id": "e6cc570c",
   "metadata": {},
   "source": [
    "### Evaluate model performance on test set and dump \n",
    "\n",
    "Implementation of [BinaryEvaluator](https://github.com/HealthRex/healthrex_ml/blob/main/healthrex_ml/evaluators/evaluators.py#L21) "
   ]
  },
  {
   "cell_type": "code",
   "execution_count": null,
   "id": "35adf732",
   "metadata": {},
   "outputs": [],
   "source": [
    "from healthrex_ml.evaluators import BinaryEvaluator\n",
    "from tqdm import tqdm\n",
    "\n",
    "for task in tqdm(tasks):\n",
    "    evalr = BinaryEvaluator(\n",
    "        outdir=f\"./{RUN_NAME}_artifacts/{task}_performance_artificats/\",\n",
    "        task_name=task\n",
    "    )\n",
    "    df_yhats = pd.read_csv(os.path.join(trainer.working_dir, f\"{task}_yhats.csv\"))\n",
    "    evalr(df_yhats.labels, df_yhats.predictions)"
   ]
  }
 ],
 "metadata": {
  "kernelspec": {
   "display_name": "Python 3 (ipykernel)",
   "language": "python",
   "name": "python3"
  },
  "language_info": {
   "codemirror_mode": {
    "name": "ipython",
    "version": 3
   },
   "file_extension": ".py",
   "mimetype": "text/x-python",
   "name": "python",
   "nbconvert_exporter": "python",
   "pygments_lexer": "ipython3",
   "version": "3.7.6"
  }
 },
 "nbformat": 4,
 "nbformat_minor": 5
}
